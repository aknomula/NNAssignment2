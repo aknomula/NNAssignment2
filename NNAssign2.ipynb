{
  "nbformat": 4,
  "nbformat_minor": 0,
  "metadata": {
    "colab": {
      "provenance": []
    },
    "kernelspec": {
      "name": "python3",
      "display_name": "Python 3"
    },
    "language_info": {
      "name": "python"
    }
  },
  "cells": [
    {
      "cell_type": "code",
      "execution_count": 12,
      "metadata": {
        "colab": {
          "base_uri": "https://localhost:8080/"
        },
        "id": "JZoNOrMqegBl",
        "outputId": "d3f313f0-2ebe-4ea6-999e-058813f188d2"
      },
      "outputs": [
        {
          "output_type": "stream",
          "name": "stdout",
          "text": [
            "Full Name: Akhila Reddy\n"
          ]
        }
      ],
      "source": [
        "def fullname(first_name, last_name):\n",
        "    return first_name + \" \" + last_name\n",
        "\n",
        "first_name = \"Akhila\"\n",
        "last_name = \"Reddy\"\n",
        "\n",
        "print(\"Full Name:\", fullname(first_name, last_name))"
      ]
    },
    {
      "cell_type": "code",
      "source": [
        "def str_alternative(Str):\n",
        "    return Str[::2]\n",
        "\n",
        "print(str_alternative(\"Good evening\"))"
      ],
      "metadata": {
        "colab": {
          "base_uri": "https://localhost:8080/"
        },
        "id": "X9BSwNNih6_r",
        "outputId": "c5a85224-9b7e-4cae-b49b-a34d8ba858c1"
      },
      "execution_count": null,
      "outputs": [
        {
          "output_type": "stream",
          "name": "stdout",
          "text": [
            "Go vnn\n"
          ]
        }
      ]
    },
    {
      "cell_type": "code",
      "source": [
        "text = open(\"input.txt\", \"r\")\n",
        "d = dict()\n",
        "for line in text:\n",
        "  line = line.strip()\n",
        "  line = line.lower()\n",
        "  words = line.split(\" \")\n",
        "  for word in words:\n",
        "    if word in d:\n",
        "      d[word] = d[word] + 1\n",
        "    else:\n",
        "      d[word] = 1\n",
        "file1 = open('output.txt', 'w')\n",
        "s=\"\"\n",
        "for key in list(d.keys()):\n",
        "     s += key+ \":\" + str(d[key])+ \"\\n\"\n",
        "file1.write(s)\n",
        "file1.close()"
      ],
      "metadata": {
        "id": "P34QNCnsmYxS"
      },
      "execution_count": 44,
      "outputs": []
    },
    {
      "cell_type": "code",
      "source": [
        "heights = [150, 155, 145, 148]\n",
        "centimeters = []\n",
        "\n",
        "for height in heights:\n",
        "    cm = height * 2.54\n",
        "    centimeters.append(cm)\n",
        "\n",
        "print(\"Heights in inches:\", heights)\n",
        "print(\"Heights in centimeters:\", centimeters)"
      ],
      "metadata": {
        "colab": {
          "base_uri": "https://localhost:8080/"
        },
        "id": "tObXdhrXjkOA",
        "outputId": "91528fdd-e7d8-49b4-e210-15e6efb2f8fc"
      },
      "execution_count": 20,
      "outputs": [
        {
          "output_type": "stream",
          "name": "stdout",
          "text": [
            "Heights in inches: [150, 155, 145, 148]\n",
            "Heights in centimeters: [381.0, 393.7, 368.3, 375.92]\n"
          ]
        }
      ]
    },
    {
      "cell_type": "code",
      "source": [
        "heights = [150,155, 145, 148] # sample list of heights in inches\n",
        "centimeters = [round(height * 2.54, 2) for height in heights] # convert each height in inches to centimeters and store it in a new list using list comprehension\n",
        "\n",
        "print(\"Heights in inches:\", heights)\n",
        "print(\"Heights in centimeters:\", centimeters)\n"
      ],
      "metadata": {
        "colab": {
          "base_uri": "https://localhost:8080/"
        },
        "id": "aZwMfvDsm3V0",
        "outputId": "b6418c54-d61a-4592-f634-49cc4c2d9373"
      },
      "execution_count": 21,
      "outputs": [
        {
          "output_type": "stream",
          "name": "stdout",
          "text": [
            "Heights in inches: [150, 155, 145, 148]\n",
            "Heights in centimeters: [381.0, 393.7, 368.3, 375.92]\n"
          ]
        }
      ]
    },
    {
      "cell_type": "code",
      "source": [],
      "metadata": {
        "id": "24Sr_3t-t8na"
      },
      "execution_count": 40,
      "outputs": []
    }
  ]
}